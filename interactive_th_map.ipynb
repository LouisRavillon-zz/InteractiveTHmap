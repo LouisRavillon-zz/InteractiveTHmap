{
 "cells": [
  {
   "cell_type": "code",
   "execution_count": 1,
   "metadata": {},
   "outputs": [],
   "source": [
    "from sklearn import manifold\n",
    "import pandas as pd\n",
    "import numpy as np\n",
    "import matplotlib.pyplot as plt\n",
    "import seaborn as sns\n",
    "import random\n",
    "\n",
    "from bokeh.models import Select, TextInput, ColumnDataSource\n",
    "from bokeh.models import HoverTool, Legend\n",
    "from bokeh.layouts import row,column,widgetbox\n",
    "from bokeh.application.handlers import FunctionHandler\n",
    "from bokeh.application import Application\n",
    "from bokeh.plotting import figure,show,save\n",
    "from bokeh.io import output_notebook\n",
    "output_notebook()"
   ]
  },
  {
   "cell_type": "markdown",
   "metadata": {},
   "source": [
    "Upload TPM Gene Expression dataset as well as the Clinical review to obtain the name and site of each sample"
   ]
  },
  {
   "cell_type": "code",
   "execution_count": null,
   "metadata": {},
   "outputs": [],
   "source": [
    "genelev = pd.read_csv('https://xena.treehouse.gi.ucsc.edu:443/download/TumorCompendium_v10_PolyA_hugo_log2tpm_58581genes_2019-07-25.tsv',sep='\\t')\n",
    "genelev = genelev.loc[:, ~genelev.columns.duplicated()].set_index(\"Gene\")\n",
    "ex = genelev.T\n",
    "\n",
    "clinical = pd.read_csv('https://xena.treehouse.gi.ucsc.edu:443/download/clinical_TumorCompendium_v10_PolyA_2019-07-25.tsv', sep=\"\\t\")\n",
    "clinical = clinical[['th_sampleid','disease','site_id']]\n",
    "clinical = clinical.loc[:, ~clinical.columns.duplicated()].set_index(\"th_sampleid\")"
   ]
  },
  {
   "cell_type": "markdown",
   "metadata": {},
   "source": [
    "Filter the dataset so that the TCGA samples (9806) and TARGET samples (784) are removed and only the TH sites remain"
   ]
  },
  {
   "cell_type": "code",
   "execution_count": null,
   "metadata": {},
   "outputs": [],
   "source": [
    "ex_th = ex.filter(regex='^TH', axis=0)\n",
    "clinical_th = clinical.filter(regex='^TH', axis=0)\n",
    "\n",
    "ex_th = pd.merge(ex_th, clinical_th, left_index=True, right_index=True)\n",
    "x = ex_th[ex_th.columns[:-2]]\n",
    "y = ex_th[ex_th.columns[-2:]]"
   ]
  },
  {
   "cell_type": "code",
   "execution_count": null,
   "metadata": {},
   "outputs": [],
   "source": [
    "tsne = manifold.TSNE(n_components=2, init=\"pca\", random_state=0, perplexity=5)\n",
    "Y = tsne.fit_transform(x)   #the gene expression are already log2(TPM + 1) normalized\n",
    "X = pd.DataFrame(Y, index=x.index, columns=[\"tsne1\", \"tsne2\"])\n",
    "X = pd.merge(X, y, left_index=True, right_index=True)"
   ]
  },
  {
   "cell_type": "markdown",
   "metadata": {},
   "source": [
    "2 columns corresponding to their disease's color and site's color are added"
   ]
  },
  {
   "cell_type": "code",
   "execution_count": null,
   "metadata": {},
   "outputs": [],
   "source": [
    "palette_site = [\"#\"+''.join([random.choice('0123456789ABCDEF') for j in range(6)])\n",
    "             for i in range(31)]\n",
    "palette_disease = [\"#\"+''.join([random.choice('0123456789ABCDEF') for j in range(6)])\n",
    "             for i in range(79)]\n",
    "\n",
    "X_bokeh = X.copy()\n",
    "\n",
    "conditions = [\n",
    "    X_bokeh['site_id'] == site_id for site_id in X_bokeh.site_id.unique()]\n",
    "outputs = palette_site\n",
    "res = np.select(conditions, outputs, 'Other')\n",
    "X_bokeh['color_site'] = res\n",
    "\n",
    "conditions = [\n",
    "    X_bokeh['disease'] == disease for disease in X_bokeh.disease.unique()]\n",
    "outputs = palette_disease\n",
    "res = np.select(conditions, outputs, 'Other')\n",
    "X_bokeh['color_disease'] = res\n",
    "\n",
    "X_bokeh['Sample'] = X_bokeh.index"
   ]
  },
  {
   "cell_type": "markdown",
   "metadata": {},
   "source": [
    "Plot of the interactive map"
   ]
  },
  {
   "cell_type": "code",
   "execution_count": null,
   "metadata": {},
   "outputs": [],
   "source": [
    "def plot(doc):\n",
    "    sample = TextInput(value=\"\",title=\"Sample :\")\n",
    "    site = TextInput(value=\"\",title=\"Site :\")\n",
    "    disease = TextInput(value=\"\",title=\"Disease :\")\n",
    "    site_list = Select(title=\"Site\", value=\"All\",\n",
    "               options=['All']+sorted(list(X_bokeh.dropna().site_id.unique())))\n",
    "    disease_list = Select(title=\"Disease\", value=\"All\",\n",
    "               options=['All']+sorted(list(X_bokeh.dropna().disease.unique())))\n",
    "    color_by = Select(title=\"Color by\", value='Site',\n",
    "               options=['Site','Disease'])   \n",
    "\n",
    "    source = ColumnDataSource(data=dict(tsne1=[], tsne2=[], color=[], disease=[], site_id=[],alpha=[],Sample=[]))\n",
    "\n",
    "    TOOLTIPS=[('Sample','@Sample'),('site_id', '@site_id'),\n",
    "                        ('disease','@disease')]\n",
    "\n",
    "    p = figure(title=\"t-SNE of TH sites\",plot_width = 1000, plot_height = 800, tooltips=TOOLTIPS,sizing_mode=\"scale_both\")\n",
    "    p.circle(x=\"tsne1\", y=\"tsne2\", source=source, size=4, color=\"color\",alpha='alpha')\n",
    "\n",
    "    \n",
    "    def select_patient():\n",
    "        color_by_val = 'color_site' if color_by.value == 'Site' else 'color_disease'\n",
    "        \n",
    "        sample_val = sample.value.strip()\n",
    "        site_list_val = site_list.value\n",
    "        disease_val = disease.value.strip()\n",
    "        site_val = site.value.strip()\n",
    "        disease_list_val = disease_list.value\n",
    "        selected = X_bokeh.dropna().copy()\n",
    "        if (sample_val != \"\"):          \n",
    "            selected = selected[selected.Sample.str.contains(sample_val)==True]\n",
    "        if (disease_list_val != \"All\"):\n",
    "            selected = selected[selected.disease.str.contains(disease_list_val)==True]\n",
    "        if (site_list_val != \"All\"):\n",
    "            selected = selected[selected.site_id.str.contains(site_list_val)==True]\n",
    "        if (disease_val != \"\"):\n",
    "            selected = selected[selected.disease.str.contains(disease_val)==True]\n",
    "        if (site_val != \"\"):         \n",
    "            selected = selected[selected.site_id.str.contains(site_val)==True]\n",
    "        unselected = X_bokeh[~X_bokeh.isin(selected)].dropna()\n",
    "        return selected,unselected,color_by_val\n",
    "\n",
    "    def update():\n",
    "        df,df_n,col = select_patient()\n",
    "        df['alpha']=1\n",
    "        df_n['alpha']=0.1\n",
    "        p.title.text = \"{} Patients selected, {} Patients non selected, {} Disease(s), {} Site(s)\".format(len(df),len(df_n),len(df.disease.unique()),len(df.site_id.unique()))\n",
    "        source.data = dict(\n",
    "            tsne1=df[\"tsne1\"].append(df_n[\"tsne1\"]),\n",
    "            tsne2=df[\"tsne2\"].append(df_n[\"tsne2\"]),\n",
    "            color=df[col].append(df_n[col]),\n",
    "            disease=df[\"disease\"].append(df_n[\"disease\"]),\n",
    "            site_id=df[\"site_id\"].append(df_n[\"site_id\"]),\n",
    "            alpha=df['alpha'].append(df_n[\"alpha\"]),\n",
    "            Sample=df['Sample'].append(df_n['Sample'])\n",
    "        )\n",
    "        \n",
    "    controls = [color_by,sample,site_list,site,disease_list,disease]\n",
    "    for control in controls:\n",
    "        control.on_change('value', lambda attr, old, new: update())\n",
    "\n",
    "    inputs = column(*controls, width=100, height=1000)\n",
    "    inputs.sizing_mode = \"fixed\"\n",
    "    l = row(inputs,p)\n",
    "    update()  # initial load of the data\n",
    "    doc.add_root(l)\n",
    "        \n",
    "handler = FunctionHandler(plot)\n",
    "app = Application(handler)\n",
    "\n",
    "show(app)"
   ]
  }
 ],
 "metadata": {
  "kernelspec": {
   "display_name": "Python 3",
   "language": "python",
   "name": "python3"
  },
  "language_info": {
   "codemirror_mode": {
    "name": "ipython",
    "version": 3
   },
   "file_extension": ".py",
   "mimetype": "text/x-python",
   "name": "python",
   "nbconvert_exporter": "python",
   "pygments_lexer": "ipython3",
   "version": "3.7.4"
  }
 },
 "nbformat": 4,
 "nbformat_minor": 4
}
